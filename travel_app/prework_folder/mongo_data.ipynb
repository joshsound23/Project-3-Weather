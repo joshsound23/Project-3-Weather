{
 "cells": [
  {
   "cell_type": "code",
   "execution_count": 1,
   "metadata": {},
   "outputs": [],
   "source": [
    "from pymongo import MongoClient\n",
    "from pprint import pprint\n",
    "from bson import json_util\n",
    "import json"
   ]
  },
  {
   "cell_type": "code",
   "execution_count": 2,
   "metadata": {},
   "outputs": [],
   "source": [
    "# Create an instance of MongoClient\n",
    "mongo = MongoClient(port=27017)"
   ]
  },
  {
   "cell_type": "code",
   "execution_count": 3,
   "metadata": {},
   "outputs": [
    {
     "name": "stdout",
     "output_type": "stream",
     "text": [
      "['admin', 'autosaurus', 'classDB', 'config', 'epa', 'fruits_db', 'local', 'met', 'petsitly_marketing', 'project3_weather', 'uk_food']\n"
     ]
    }
   ],
   "source": [
    "# confirm that our new database was created\n",
    "print(mongo.list_database_names())"
   ]
  },
  {
   "cell_type": "code",
   "execution_count": 4,
   "metadata": {},
   "outputs": [],
   "source": [
    "# assign the database to a variable name\n",
    "db = mongo['project3_weather']\n"
   ]
  },
  {
   "cell_type": "code",
   "execution_count": 14,
   "metadata": {},
   "outputs": [
    {
     "data": {
      "text/plain": [
       "<bound method Database.collection_names of Database(MongoClient(host=['localhost:27017'], document_class=dict, tz_aware=False, connect=True), 'project3_weather')>"
      ]
     },
     "execution_count": 14,
     "metadata": {},
     "output_type": "execute_result"
    }
   ],
   "source": [
    "db.collection_names"
   ]
  },
  {
   "cell_type": "code",
   "execution_count": 5,
   "metadata": {},
   "outputs": [],
   "source": [
    "# assign the collections to a variable name\n",
    "cities = db['cities']\n",
    "countries = db['countries']\n",
    "weather_data = db['weather_data']"
   ]
  },
  {
   "cell_type": "code",
   "execution_count": 6,
   "metadata": {},
   "outputs": [],
   "source": [
    "# test query \n",
    "query = {'city_name': 'New York'}\n",
    "results = weather_data.find(query)\n",
    "test = []\n",
    "for result in results:\n",
    "    pprint(result)\n",
    "    test.append(result)"
   ]
  },
  {
   "cell_type": "code",
   "execution_count": 19,
   "metadata": {},
   "outputs": [],
   "source": [
    "# Your data to be saved\n",
    "test\n",
    "\n",
    "# Specify the path to the JSON file\n",
    "json_file_path = 'test.json'\n",
    "\n",
    "# Convert ObjectID to string\n",
    "json_data = json_util.dumps(test, indent=2)\n",
    "\n",
    "# Write the data to the JSON file\n",
    "with open(json_file_path, 'w') as json_file:\n",
    "    json_file.write(json_data)\n",
    "\n",
    "\n",
    "\n",
    "\n",
    "\n",
    "\n",
    "\n"
   ]
  },
  {
   "cell_type": "code",
   "execution_count": 17,
   "metadata": {},
   "outputs": [
    {
     "name": "stdout",
     "output_type": "stream",
     "text": [
      "{'': 1137,\n",
      " '_id': ObjectId('658a08e8d5f1e7c4dbeb07d7'),\n",
      " 'city_name': 'London',\n",
      " 'country': 'United Kingdom',\n",
      " 'latitude': 51.4999947297,\n",
      " 'longitude': -0.11672184386,\n",
      " 'state': 'Westminster',\n",
      " 'station_id': 3772}\n"
     ]
    }
   ],
   "source": [
    "query = {'city_name': \"London\"}\n",
    "results = cities.find(query)\n",
    "cities_data = []\n",
    "for result in results:\n",
    "    pprint(result)\n",
    "    cities_data.append(result)"
   ]
  },
  {
   "cell_type": "code",
   "execution_count": 18,
   "metadata": {},
   "outputs": [
    {
     "data": {
      "text/plain": [
       "[{'_id': ObjectId('658a08e8d5f1e7c4dbeb07d7'),\n",
       "  '': 1137,\n",
       "  'station_id': 3772,\n",
       "  'city_name': 'London',\n",
       "  'country': 'United Kingdom',\n",
       "  'state': 'Westminster',\n",
       "  'latitude': 51.4999947297,\n",
       "  'longitude': -0.11672184386}]"
      ]
     },
     "execution_count": 18,
     "metadata": {},
     "output_type": "execute_result"
    }
   ],
   "source": [
    "cities_data"
   ]
  },
  {
   "cell_type": "code",
   "execution_count": 8,
   "metadata": {},
   "outputs": [],
   "source": [
    "# Your data to be saved\n",
    "cities_data\n",
    "\n",
    "# Specify the path to the JSON file\n",
    "json_file_path = 'cities_data.json'\n",
    "\n",
    "# Convert ObjectID to string\n",
    "json_data = json_util.dumps(test, indent=2)\n",
    "\n",
    "# Write the data to the JSON file\n",
    "with open(json_file_path, 'w') as json_file:\n",
    "    json_file.write(json_data)\n"
   ]
  }
 ],
 "metadata": {
  "kernelspec": {
   "display_name": "Python 3",
   "language": "python",
   "name": "python3"
  },
  "language_info": {
   "codemirror_mode": {
    "name": "ipython",
    "version": 3
   },
   "file_extension": ".py",
   "mimetype": "text/x-python",
   "name": "python",
   "nbconvert_exporter": "python",
   "pygments_lexer": "ipython3",
   "version": "3.10.13"
  }
 },
 "nbformat": 4,
 "nbformat_minor": 2
}
